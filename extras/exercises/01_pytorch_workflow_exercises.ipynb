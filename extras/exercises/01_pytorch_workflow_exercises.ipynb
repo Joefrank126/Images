{
  "nbformat": 4,
  "nbformat_minor": 0,
  "metadata": {
    "colab": {
      "name": "01_pytorch_workflow_exercises.ipynb",
      "provenance": [],
      "include_colab_link": true
    },
    "kernelspec": {
      "name": "python3",
      "display_name": "Python 3"
    },
    "language_info": {
      "name": "python"
    },
    "accelerator": "GPU"
  },
  "cells": [
    {
      "cell_type": "markdown",
      "metadata": {
        "id": "view-in-github",
        "colab_type": "text"
      },
      "source": [
        "<a href=\"https://colab.research.google.com/github/Joefrank126/Images/blob/main/extras/exercises/01_pytorch_workflow_exercises.ipynb\" target=\"_parent\"><img src=\"https://colab.research.google.com/assets/colab-badge.svg\" alt=\"Open In Colab\"/></a>"
      ]
    },
    {
      "cell_type": "markdown",
      "source": [
        "# 01. PyTorch Workflow Exercise Template\n",
        "\n",
        "The following is a template for the PyTorch workflow exercises.\n",
        "\n",
        "It's only starter code and it's your job to fill in the blanks.\n",
        "\n",
        "Because of the flexibility of PyTorch, there may be more than one way to answer the question.\n",
        "\n",
        "Don't worry about trying to be *right* just try writing code that suffices the question.\n",
        "\n",
        "You can see one form of [solutions on GitHub](https://github.com/mrdbourke/pytorch-deep-learning/tree/main/extras/solutions) (but try the exercises below yourself first!)."
      ],
      "metadata": {
        "id": "N8LsPXZti9Sw"
      }
    },
    {
      "cell_type": "code",
      "source": [
        "# Import necessary libraries\n",
        "import torch\n",
        "from torch import nn\n",
        "import matplotlib.pyplot as plt\n",
        "import numpy as np\n",
        "from pathlib import Path\n",
        "\n",
        "torch.__version__"
      ],
      "metadata": {
        "id": "Glu2fM4dkNlx",
        "outputId": "d1d3b23f-64b9-4370-9846-08e1b421567f",
        "colab": {
          "base_uri": "https://localhost:8080/",
          "height": 35
        }
      },
      "execution_count": 3,
      "outputs": [
        {
          "output_type": "execute_result",
          "data": {
            "text/plain": [
              "'2.6.0+cu124'"
            ],
            "application/vnd.google.colaboratory.intrinsic+json": {
              "type": "string"
            }
          },
          "metadata": {},
          "execution_count": 3
        }
      ]
    },
    {
      "cell_type": "code",
      "source": [
        "# Setup device-agnostic code\n",
        "device = \"cuda\" if torch.cuda.is_available() else \"cpu\"\n",
        "print(f\"Using device: {device}\")"
      ],
      "metadata": {
        "id": "LqKhXY26m31s",
        "outputId": "83056321-542a-4617-e565-8713ce72eb70",
        "colab": {
          "base_uri": "https://localhost:8080/"
        }
      },
      "execution_count": 4,
      "outputs": [
        {
          "output_type": "stream",
          "name": "stdout",
          "text": [
            "Using device: cuda\n"
          ]
        }
      ]
    },
    {
      "cell_type": "markdown",
      "source": [
        "## 1. Create a straight line dataset using the linear regression formula (`weight * X + bias`).\n",
        "  * Set `weight=0.3` and `bias=0.9` there should be at least 100 datapoints total.\n",
        "  * Split the data into 80% training, 20% testing.\n",
        "  * Plot the training and testing data so it becomes visual.\n",
        "\n",
        "Your output of the below cell should look something like:\n",
        "```\n",
        "Number of X samples: 100\n",
        "Number of y samples: 100\n",
        "First 10 X & y samples:\n",
        "X: tensor([0.0000, 0.0100, 0.0200, 0.0300, 0.0400, 0.0500, 0.0600, 0.0700, 0.0800,\n",
        "        0.0900])\n",
        "y: tensor([0.9000, 0.9030, 0.9060, 0.9090, 0.9120, 0.9150, 0.9180, 0.9210, 0.9240,\n",
        "        0.9270])\n",
        "```\n",
        "\n",
        "Of course the numbers in `X` and `y` may be different but ideally they're created using the linear regression formula."
      ],
      "metadata": {
        "id": "g7HUhxCxjeBx"
      }
    },
    {
      "cell_type": "code",
      "source": [
        "# Create the data parameters\n",
        "weight = 0.9\n",
        "bias = 0.2\n",
        "\n",
        "# Make X and y using linear regression feature\n",
        "start = 0\n",
        "stop = 1\n",
        "step = 0.01\n",
        "X = torch.arange(start, stop, step).unsqueeze(dim=1)\n",
        "Y = weight * X + bias\n",
        "\n",
        "\n",
        "print(f\"Number of X samples: {len(X)}\")\n",
        "print(f\"Number of y samples: {len(Y)}\")\n",
        "print(f\"First 10 X & y samples:\\nX: {X[:10]}\\ny: {Y[:10]}\")"
      ],
      "metadata": {
        "id": "KbDG5MV7jhvE",
        "outputId": "b085a6a9-00af-410b-f97d-1d6f80d35060",
        "colab": {
          "base_uri": "https://localhost:8080/"
        }
      },
      "execution_count": 6,
      "outputs": [
        {
          "output_type": "stream",
          "name": "stdout",
          "text": [
            "Number of X samples: 100\n",
            "Number of y samples: 100\n",
            "First 10 X & y samples:\n",
            "X: tensor([[0.0000],\n",
            "        [0.0100],\n",
            "        [0.0200],\n",
            "        [0.0300],\n",
            "        [0.0400],\n",
            "        [0.0500],\n",
            "        [0.0600],\n",
            "        [0.0700],\n",
            "        [0.0800],\n",
            "        [0.0900]])\n",
            "y: tensor([[0.2000],\n",
            "        [0.2090],\n",
            "        [0.2180],\n",
            "        [0.2270],\n",
            "        [0.2360],\n",
            "        [0.2450],\n",
            "        [0.2540],\n",
            "        [0.2630],\n",
            "        [0.2720],\n",
            "        [0.2810]])\n"
          ]
        }
      ]
    },
    {
      "cell_type": "code",
      "source": [
        "# Split the data into training and testing\n",
        "train_split = int(len(X) * 0.8)\n",
        "X_train, Y_train = X[:train_split], Y[:train_split]\n",
        "X_test, Y_test = X[train_split:], Y[train_split:]\n",
        "print(f\"X_train shape: {X_train.shape}\\ny_train shape: {Y_train.shape}\")\n",
        "print(f\"X_test shape: {X_test.shape}\\ny_test shape: {Y_test.shape}\")"
      ],
      "metadata": {
        "id": "GlwtT1djkmLw",
        "outputId": "1ae284d0-74d3-41aa-adea-f5a2ce29bae3",
        "colab": {
          "base_uri": "https://localhost:8080/"
        }
      },
      "execution_count": 7,
      "outputs": [
        {
          "output_type": "stream",
          "name": "stdout",
          "text": [
            "X_train shape: torch.Size([80, 1])\n",
            "y_train shape: torch.Size([80, 1])\n",
            "X_test shape: torch.Size([20, 1])\n",
            "y_test shape: torch.Size([20, 1])\n"
          ]
        }
      ]
    },
    {
      "cell_type": "code",
      "source": [
        "# Plot the training and testing data\n",
        "def plot_predictions(train_data=X_train,\n",
        "                     train_labels=Y_train,\n",
        "                     test_data=X_test,\n",
        "                     test_labels=Y_test,\n",
        "                     predictions=None):\n",
        "    plt.figure(figsize=(10, 7))\n",
        "\n",
        "    plt.scatter(train_data, train_labels, c=\"b\", s=4, label=\"Training data\")\n",
        "    plt.scatter(test_data, test_labels, c=\"g\", s=4, label=\"Testing data\")\n",
        "\n",
        "    if predictions is not None:\n",
        "        plt.scatter(test_data, predictions, c=\"r\", s=4, label=\"Predictions\")\n",
        "\n",
        "    plt.legend(prop={\"size\": 14})\n",
        "    plt.show()\n"
      ],
      "metadata": {
        "id": "29iQZFNhlYJ-"
      },
      "execution_count": 8,
      "outputs": []
    },
    {
      "cell_type": "code",
      "source": [
        "plot_predictions()"
      ],
      "metadata": {
        "id": "GIEeQLu1s33L",
        "outputId": "266a2c3e-fad2-445d-8b9b-382ff9d41026",
        "colab": {
          "base_uri": "https://localhost:8080/",
          "height": 460
        }
      },
      "execution_count": 9,
      "outputs": [
        {
          "output_type": "display_data",
          "data": {
            "text/plain": [
              "<Figure size 1000x700 with 1 Axes>"
            ],
            "image/png": "[encoded data removed]"
          },
          "metadata": {}
        }
      ]
    },
    {
      "cell_type": "markdown",
      "source": [
        "## 2. Build a PyTorch model by subclassing `nn.Module`.\n",
        "  * Inside should be a randomly initialized `nn.Parameter()` with `requires_grad=True`, one for `weights` and one for `bias`.\n",
        "  * Implement the `forward()` method to compute the linear regression function you used to create the dataset in 1.\n",
        "  * Once you've constructed the model, make an instance of it and check its `state_dict()`.\n",
        "  * **Note:** If you'd like to use `nn.Linear()` instead of `nn.Parameter()` you can."
      ],
      "metadata": {
        "id": "ImZoe3v8jif8"
      }
    },
    {
      "cell_type": "code",
      "source": [
        "# Create PyTorch linear regression model by subclassing nn.Module\n",
        "class LinearRegressionModelE0(nn.Module):\n",
        "    def __init__(self):\n",
        "        super().__init__()\n",
        "        self.linear = nn.Linear(in_features=1, out_features=1)\n",
        "\n",
        "    def forward(self, x: torch.Tensor) -> torch.Tensor:\n",
        "        return self.linear(x)"
      ],
      "metadata": {
        "id": "qzd__Y5rjtB8"
      },
      "execution_count": 13,
      "outputs": []
    },
    {
      "cell_type": "code",
      "source": [
        "# Instantiate the model and put it to the target device\n",
        "model_E0 = LinearRegressionModelE0()\n",
        "model_E0.to(device)\n",
        "\n",
        "model_E0.state_dict()"
      ],
      "metadata": {
        "id": "5LdcDnmOmyQ2",
        "outputId": "3f90a157-ccb0-43a8-920e-f052b1213638",
        "colab": {
          "base_uri": "https://localhost:8080/"
        }
      },
      "execution_count": 14,
      "outputs": [
        {
          "output_type": "execute_result",
          "data": {
            "text/plain": [
              "OrderedDict([('linear.weight', tensor([[0.2941]], device='cuda:0')),\n",
              "             ('linear.bias', tensor([-0.0467], device='cuda:0'))])"
            ]
          },
          "metadata": {},
          "execution_count": 14
        }
      ]
    },
    {
      "cell_type": "markdown",
      "source": [
        "## 3. Create a loss function and optimizer using `nn.L1Loss()` and `torch.optim.SGD(params, lr)` respectively.\n",
        "  * Set the learning rate of the optimizer to be 0.01 and the parameters to optimize should be the model parameters from the model you created in 2.\n",
        "  * Write a training loop to perform the appropriate training steps for 300 epochs.\n",
        "  * The training loop should test the model on the test dataset every 20 epochs."
      ],
      "metadata": {
        "id": "G6nYOrJhjtfu"
      }
    },
    {
      "cell_type": "code",
      "source": [
        "# Create the loss function and optimizer\n",
        "loss_fn = nn.L1Loss()\n",
        "optimizer = torch.optim.SGD(model_E0.parameters(), lr=0.01)"
      ],
      "metadata": {
        "id": "ltvoZ-FWjv1j"
      },
      "execution_count": 16,
      "outputs": []
    },
    {
      "cell_type": "code",
      "source": [
        "# Training loop\n",
        "\n",
        "\n",
        "# Train model for 300 epochs\n",
        "epochs = 300\n",
        "\n",
        "# Send data to target device\n",
        "X_train = X_train.to(device)\n",
        "Y_train = Y_train.to(device)\n",
        "\n",
        "X_test = X_test.to(device)\n",
        "Y_test = Y_test.to(device)\n",
        "\n",
        "for epoch in range(epochs):\n",
        "  ### Training\n",
        "\n",
        "  # Put model in train mode\n",
        "  model_E0.train()\n",
        "\n",
        "\n",
        "  # 1. Forward pass\n",
        "  y_pred = model_E0(X_train)\n",
        "\n",
        "  # 2. Calculate loss\n",
        "  loss = loss_fn(y_pred, Y_train)\n",
        "\n",
        "  # 3. Zero gradients\n",
        "  optimizer.zero_grad()\n",
        "\n",
        "  # 4. Backpropagation\n",
        "  loss.backward()\n",
        "\n",
        "  # 5. Step the optimizer\n",
        "  optimizer.step()\n",
        "\n",
        "  ### Perform testing every 20 epochs\n",
        "  if epoch % 20 == 0:\n",
        "\n",
        "    # Put model in evaluation mode and setup inference context\n",
        "    model_E0.eval()\n",
        "\n",
        "    # 1. Forward pass\n",
        "    y_pred = model_E0(X_test)\n",
        "\n",
        "    # 2. Calculate test loss\n",
        "    test_loss = loss_fn(y_pred, Y_test)\n",
        "\n",
        "    # Print out what's happening\n",
        "    print(f\"Epoch: {epoch} | Train loss: {loss:.3f} | Test loss: {test_loss:.3f}\")"
      ],
      "metadata": {
        "id": "xpE83NvNnkdV",
        "outputId": "86d4e452-bc97-449d-c97c-c7a6a81cfb2c",
        "colab": {
          "base_uri": "https://localhost:8080/"
        }
      },
      "execution_count": 20,
      "outputs": [
        {
          "output_type": "stream",
          "name": "stdout",
          "text": [
            "Epoch: 0 | Train loss: 0.463 | Test loss: 0.748\n",
            "Epoch: 20 | Train loss: 0.232 | Test loss: 0.478\n",
            "Epoch: 40 | Train loss: 0.100 | Test loss: 0.279\n",
            "Epoch: 60 | Train loss: 0.079 | Test loss: 0.200\n",
            "Epoch: 80 | Train loss: 0.071 | Test loss: 0.169\n",
            "Epoch: 100 | Train loss: 0.064 | Test loss: 0.150\n",
            "Epoch: 120 | Train loss: 0.057 | Test loss: 0.134\n",
            "Epoch: 140 | Train loss: 0.050 | Test loss: 0.118\n",
            "Epoch: 160 | Train loss: 0.043 | Test loss: 0.102\n",
            "Epoch: 180 | Train loss: 0.037 | Test loss: 0.086\n",
            "Epoch: 200 | Train loss: 0.030 | Test loss: 0.069\n",
            "Epoch: 220 | Train loss: 0.023 | Test loss: 0.053\n",
            "Epoch: 240 | Train loss: 0.016 | Test loss: 0.037\n",
            "Epoch: 260 | Train loss: 0.009 | Test loss: 0.021\n",
            "Epoch: 280 | Train loss: 0.002 | Test loss: 0.005\n"
          ]
        }
      ]
    },
    {
      "cell_type": "markdown",
      "source": [
        "## 4. Make predictions with the trained model on the test data.\n",
        "  * Visualize these predictions against the original training and testing data (**note:** you may need to make sure the predictions are *not* on the GPU if you want to use non-CUDA-enabled libraries such as matplotlib to plot)."
      ],
      "metadata": {
        "id": "x4j4TM18jwa7"
      }
    },
    {
      "cell_type": "code",
      "source": [
        "# Make predictions with the model\n",
        "model_E0.eval()\n",
        "with torch.inference_mode():\n",
        "  y_preds = model_E0(X_test)"
      ],
      "metadata": {
        "id": "bbMPK5Qjjyx_"
      },
      "execution_count": 21,
      "outputs": []
    },
    {
      "cell_type": "code",
      "source": [
        "# Plot the predictions (these may need to be on a specific device)\n",
        "plot_predictions(predictions=y_preds.cpu())"
      ],
      "metadata": {
        "id": "K3BdmQaDpFo8",
        "outputId": "fe652850-7511-440c-96c1-ccc9d1fc3b06",
        "colab": {
          "base_uri": "https://localhost:8080/",
          "height": 460
        }
      },
      "execution_count": 23,
      "outputs": [
        {
          "output_type": "display_data",
          "data": {
            "text/plain": [
              "<Figure size 1000x700 with 1 Axes>"
            ],
            "image/png": "[encoded data removed]"
          },
          "metadata": {}
        }
      ]
    },
    {
      "cell_type": "markdown",
      "source": [
        "## 5. Save your trained model's `state_dict()` to file.\n",
        "  * Create a new instance of your model class you made in 2. and load in the `state_dict()` you just saved to it.\n",
        "  * Perform predictions on your test data with the loaded model and confirm they match the original model predictions from 4."
      ],
      "metadata": {
        "id": "s2OnlMWKjzX8"
      }
    },
    {
      "cell_type": "code",
      "source": [
        "from pathlib import Path\n",
        "\n",
        "# 1. Create models directory\n",
        "MODEL_PATH = Path(\"models\")\n",
        "MODEL_PATH.mkdir(parents=True, exist_ok=True)\n",
        "\n",
        "\n",
        "# 2. Create model save path\n",
        "MODEL_NAME = \"01_pytorch_workflow_exercise_model_1.pth\"\n",
        "MODEL_SAVE_PATH = MODEL_PATH / MODEL_NAME\n",
        "\n",
        "# 3. Save the model state dict\n",
        "print(f\"Saving model to: {MODEL_SAVE_PATH}\")\n",
        "torch.save(obj=model_E0.state_dict(),\n",
        "           f=MODEL_SAVE_PATH)\n"
      ],
      "metadata": {
        "id": "hgxhgD14qr-i",
        "outputId": "6eb99ac0-3958-4ecd-e75a-50625106ae42",
        "colab": {
          "base_uri": "https://localhost:8080/"
        }
      },
      "execution_count": 24,
      "outputs": [
        {
          "output_type": "stream",
          "name": "stdout",
          "text": [
            "Saving model to: models/01_pytorch_workflow_exercise_model_1.pth\n"
          ]
        }
      ]
    },
    {
      "cell_type": "code",
      "source": [
        "# Create new instance of model and load saved state dict (make sure to put it on the target device)\n",
        "loaded_model_E0 = LinearRegressionModelE0().to(device)\n",
        "loaded_model_E0.load_state_dict(torch.load(MODEL_SAVE_PATH))\n"
      ],
      "metadata": {
        "id": "P9vTgiLRrJ7T",
        "outputId": "eb2606da-2978-4815-9e32-936e3e0b09de",
        "colab": {
          "base_uri": "https://localhost:8080/"
        }
      },
      "execution_count": 25,
      "outputs": [
        {
          "output_type": "execute_result",
          "data": {
            "text/plain": [
              "<All keys matched successfully>"
            ]
          },
          "metadata": {},
          "execution_count": 25
        }
      ]
    },
    {
      "cell_type": "code",
      "source": [
        "# Make predictions with loaded model and compare them to the previous\n",
        "\n",
        "loaded_model_E0.eval()\n",
        "with torch.inference_mode():\n",
        "  loaded_model_preds = loaded_model_E0(X_test)\n",
        "\n",
        "loaded_model_preds == y_preds\n"
      ],
      "metadata": {
        "id": "8UGX3VebrVtI",
        "outputId": "c348ecb9-888a-40ed-eb18-012e19d33e10",
        "colab": {
          "base_uri": "https://localhost:8080/"
        }
      },
      "execution_count": 26,
      "outputs": [
        {
          "output_type": "execute_result",
          "data": {
            "text/plain": [
              "tensor([[True],\n",
              "        [True],\n",
              "        [True],\n",
              "        [True],\n",
              "        [True],\n",
              "        [True],\n",
              "        [True],\n",
              "        [True],\n",
              "        [True],\n",
              "        [True],\n",
              "        [True],\n",
              "        [True],\n",
              "        [True],\n",
              "        [True],\n",
              "        [True],\n",
              "        [True],\n",
              "        [True],\n",
              "        [True],\n",
              "        [True],\n",
              "        [True]], device='cuda:0')"
            ]
          },
          "metadata": {},
          "execution_count": 26
        }
      ]
    },
    {
      "cell_type": "code",
      "source": [
        "# Visualize the predictions comparism\n",
        "\n",
        "plt.figure(figsize=(10, 7))\n",
        "\n",
        "plt.plot(Y_test.cpu(), y_preds.cpu(), label=\"Y_pred\")\n",
        "plt.plot(Y_test.cpu(), loaded_model_preds.cpu(), label=\"loaded_model_pred\")\n",
        "\n",
        "plt.legend()\n",
        "plt.show()"
      ],
      "metadata": {
        "id": "mmzSPUx5wyAE",
        "outputId": "8aade80f-dcb2-4e17-e133-410466e12008",
        "colab": {
          "base_uri": "https://localhost:8080/",
          "height": 451
        }
      },
      "execution_count": 30,
      "outputs": [
        {
          "output_type": "display_data",
          "data": {
            "text/plain": [
              "<Figure size 1000x700 with 1 Axes>"
            ],
            "image/png": "[encoded data removed]"
          },
          "metadata": {}
        }
      ]
    }
  ]
}